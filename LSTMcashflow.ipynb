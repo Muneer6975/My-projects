{
 "cells": [
  {
   "cell_type": "code",
   "execution_count": 44,
   "id": "648595dc-4a7c-4be6-822c-a849e9978826",
   "metadata": {},
   "outputs": [
    {
     "name": "stdout",
     "output_type": "stream",
     "text": [
      "Requirement already satisfied: keras in c:\\users\\munee\\anaconda3\\envs\\sp_env\\lib\\site-packages (2.13.1)\n",
      "Requirement already satisfied: tensorflow in c:\\users\\munee\\anaconda3\\envs\\sp_env\\lib\\site-packages (2.13.0)\n",
      "Requirement already satisfied: tensorflow-intel==2.13.0 in c:\\users\\munee\\anaconda3\\envs\\sp_env\\lib\\site-packages (from tensorflow) (2.13.0)\n",
      "Requirement already satisfied: absl-py>=1.0.0 in c:\\users\\munee\\anaconda3\\envs\\sp_env\\lib\\site-packages (from tensorflow-intel==2.13.0->tensorflow) (2.1.0)\n",
      "Requirement already satisfied: astunparse>=1.6.0 in c:\\users\\munee\\anaconda3\\envs\\sp_env\\lib\\site-packages (from tensorflow-intel==2.13.0->tensorflow) (1.6.3)\n",
      "Requirement already satisfied: flatbuffers>=23.1.21 in c:\\users\\munee\\anaconda3\\envs\\sp_env\\lib\\site-packages (from tensorflow-intel==2.13.0->tensorflow) (24.3.25)\n",
      "Requirement already satisfied: gast<=0.4.0,>=0.2.1 in c:\\users\\munee\\anaconda3\\envs\\sp_env\\lib\\site-packages (from tensorflow-intel==2.13.0->tensorflow) (0.4.0)\n",
      "Requirement already satisfied: google-pasta>=0.1.1 in c:\\users\\munee\\anaconda3\\envs\\sp_env\\lib\\site-packages (from tensorflow-intel==2.13.0->tensorflow) (0.2.0)\n",
      "Requirement already satisfied: h5py>=2.9.0 in c:\\users\\munee\\anaconda3\\envs\\sp_env\\lib\\site-packages (from tensorflow-intel==2.13.0->tensorflow) (3.11.0)\n",
      "Requirement already satisfied: libclang>=13.0.0 in c:\\users\\munee\\anaconda3\\envs\\sp_env\\lib\\site-packages (from tensorflow-intel==2.13.0->tensorflow) (18.1.1)\n",
      "Requirement already satisfied: numpy<=1.24.3,>=1.22 in c:\\users\\munee\\anaconda3\\envs\\sp_env\\lib\\site-packages (from tensorflow-intel==2.13.0->tensorflow) (1.24.3)\n",
      "Requirement already satisfied: opt-einsum>=2.3.2 in c:\\users\\munee\\anaconda3\\envs\\sp_env\\lib\\site-packages (from tensorflow-intel==2.13.0->tensorflow) (3.3.0)\n",
      "Requirement already satisfied: packaging in c:\\users\\munee\\anaconda3\\envs\\sp_env\\lib\\site-packages (from tensorflow-intel==2.13.0->tensorflow) (24.1)\n",
      "Requirement already satisfied: protobuf!=4.21.0,!=4.21.1,!=4.21.2,!=4.21.3,!=4.21.4,!=4.21.5,<5.0.0dev,>=3.20.3 in c:\\users\\munee\\anaconda3\\envs\\sp_env\\lib\\site-packages (from tensorflow-intel==2.13.0->tensorflow) (4.25.4)\n",
      "Requirement already satisfied: setuptools in c:\\users\\munee\\anaconda3\\envs\\sp_env\\lib\\site-packages (from tensorflow-intel==2.13.0->tensorflow) (69.5.1)\n",
      "Requirement already satisfied: six>=1.12.0 in c:\\users\\munee\\anaconda3\\envs\\sp_env\\lib\\site-packages (from tensorflow-intel==2.13.0->tensorflow) (1.16.0)\n",
      "Requirement already satisfied: termcolor>=1.1.0 in c:\\users\\munee\\anaconda3\\envs\\sp_env\\lib\\site-packages (from tensorflow-intel==2.13.0->tensorflow) (2.4.0)\n",
      "Requirement already satisfied: typing-extensions<4.6.0,>=3.6.6 in c:\\users\\munee\\anaconda3\\envs\\sp_env\\lib\\site-packages (from tensorflow-intel==2.13.0->tensorflow) (4.5.0)\n",
      "Requirement already satisfied: wrapt>=1.11.0 in c:\\users\\munee\\anaconda3\\envs\\sp_env\\lib\\site-packages (from tensorflow-intel==2.13.0->tensorflow) (1.14.1)\n",
      "Requirement already satisfied: grpcio<2.0,>=1.24.3 in c:\\users\\munee\\anaconda3\\envs\\sp_env\\lib\\site-packages (from tensorflow-intel==2.13.0->tensorflow) (1.66.0)\n",
      "Requirement already satisfied: tensorboard<2.14,>=2.13 in c:\\users\\munee\\anaconda3\\envs\\sp_env\\lib\\site-packages (from tensorflow-intel==2.13.0->tensorflow) (2.13.0)\n",
      "Requirement already satisfied: tensorflow-estimator<2.14,>=2.13.0 in c:\\users\\munee\\anaconda3\\envs\\sp_env\\lib\\site-packages (from tensorflow-intel==2.13.0->tensorflow) (2.13.0)\n",
      "Requirement already satisfied: keras<2.14,>=2.13.1 in c:\\users\\munee\\anaconda3\\envs\\sp_env\\lib\\site-packages (from tensorflow-intel==2.13.0->tensorflow) (2.13.1)\n",
      "Requirement already satisfied: tensorflow-io-gcs-filesystem>=0.23.1 in c:\\users\\munee\\anaconda3\\envs\\sp_env\\lib\\site-packages (from tensorflow-intel==2.13.0->tensorflow) (0.31.0)\n",
      "Requirement already satisfied: wheel<1.0,>=0.23.0 in c:\\users\\munee\\anaconda3\\envs\\sp_env\\lib\\site-packages (from astunparse>=1.6.0->tensorflow-intel==2.13.0->tensorflow) (0.43.0)\n",
      "Requirement already satisfied: google-auth<3,>=1.6.3 in c:\\users\\munee\\anaconda3\\envs\\sp_env\\lib\\site-packages (from tensorboard<2.14,>=2.13->tensorflow-intel==2.13.0->tensorflow) (2.34.0)\n",
      "Requirement already satisfied: google-auth-oauthlib<1.1,>=0.5 in c:\\users\\munee\\anaconda3\\envs\\sp_env\\lib\\site-packages (from tensorboard<2.14,>=2.13->tensorflow-intel==2.13.0->tensorflow) (1.0.0)\n",
      "Requirement already satisfied: markdown>=2.6.8 in c:\\users\\munee\\anaconda3\\envs\\sp_env\\lib\\site-packages (from tensorboard<2.14,>=2.13->tensorflow-intel==2.13.0->tensorflow) (3.7)\n",
      "Requirement already satisfied: requests<3,>=2.21.0 in c:\\users\\munee\\anaconda3\\envs\\sp_env\\lib\\site-packages (from tensorboard<2.14,>=2.13->tensorflow-intel==2.13.0->tensorflow) (2.32.3)\n",
      "Requirement already satisfied: tensorboard-data-server<0.8.0,>=0.7.0 in c:\\users\\munee\\anaconda3\\envs\\sp_env\\lib\\site-packages (from tensorboard<2.14,>=2.13->tensorflow-intel==2.13.0->tensorflow) (0.7.2)\n",
      "Requirement already satisfied: werkzeug>=1.0.1 in c:\\users\\munee\\anaconda3\\envs\\sp_env\\lib\\site-packages (from tensorboard<2.14,>=2.13->tensorflow-intel==2.13.0->tensorflow) (3.0.4)\n",
      "Requirement already satisfied: cachetools<6.0,>=2.0.0 in c:\\users\\munee\\anaconda3\\envs\\sp_env\\lib\\site-packages (from google-auth<3,>=1.6.3->tensorboard<2.14,>=2.13->tensorflow-intel==2.13.0->tensorflow) (5.5.0)\n",
      "Requirement already satisfied: pyasn1-modules>=0.2.1 in c:\\users\\munee\\anaconda3\\envs\\sp_env\\lib\\site-packages (from google-auth<3,>=1.6.3->tensorboard<2.14,>=2.13->tensorflow-intel==2.13.0->tensorflow) (0.4.0)\n",
      "Requirement already satisfied: rsa<5,>=3.1.4 in c:\\users\\munee\\anaconda3\\envs\\sp_env\\lib\\site-packages (from google-auth<3,>=1.6.3->tensorboard<2.14,>=2.13->tensorflow-intel==2.13.0->tensorflow) (4.9)\n",
      "Requirement already satisfied: requests-oauthlib>=0.7.0 in c:\\users\\munee\\anaconda3\\envs\\sp_env\\lib\\site-packages (from google-auth-oauthlib<1.1,>=0.5->tensorboard<2.14,>=2.13->tensorflow-intel==2.13.0->tensorflow) (2.0.0)\n",
      "Requirement already satisfied: importlib-metadata>=4.4 in c:\\users\\munee\\anaconda3\\envs\\sp_env\\lib\\site-packages (from markdown>=2.6.8->tensorboard<2.14,>=2.13->tensorflow-intel==2.13.0->tensorflow) (8.3.0)\n",
      "Requirement already satisfied: charset-normalizer<4,>=2 in c:\\users\\munee\\anaconda3\\envs\\sp_env\\lib\\site-packages (from requests<3,>=2.21.0->tensorboard<2.14,>=2.13->tensorflow-intel==2.13.0->tensorflow) (3.3.2)\n",
      "Requirement already satisfied: idna<4,>=2.5 in c:\\users\\munee\\anaconda3\\envs\\sp_env\\lib\\site-packages (from requests<3,>=2.21.0->tensorboard<2.14,>=2.13->tensorflow-intel==2.13.0->tensorflow) (3.7)\n",
      "Requirement already satisfied: urllib3<3,>=1.21.1 in c:\\users\\munee\\anaconda3\\envs\\sp_env\\lib\\site-packages (from requests<3,>=2.21.0->tensorboard<2.14,>=2.13->tensorflow-intel==2.13.0->tensorflow) (1.26.19)\n",
      "Requirement already satisfied: certifi>=2017.4.17 in c:\\users\\munee\\anaconda3\\envs\\sp_env\\lib\\site-packages (from requests<3,>=2.21.0->tensorboard<2.14,>=2.13->tensorflow-intel==2.13.0->tensorflow) (2024.7.4)\n",
      "Requirement already satisfied: MarkupSafe>=2.1.1 in c:\\users\\munee\\anaconda3\\envs\\sp_env\\lib\\site-packages (from werkzeug>=1.0.1->tensorboard<2.14,>=2.13->tensorflow-intel==2.13.0->tensorflow) (2.1.5)\n",
      "Requirement already satisfied: zipp>=0.5 in c:\\users\\munee\\anaconda3\\envs\\sp_env\\lib\\site-packages (from importlib-metadata>=4.4->markdown>=2.6.8->tensorboard<2.14,>=2.13->tensorflow-intel==2.13.0->tensorflow) (3.20.0)\n",
      "Requirement already satisfied: pyasn1<0.7.0,>=0.4.6 in c:\\users\\munee\\anaconda3\\envs\\sp_env\\lib\\site-packages (from pyasn1-modules>=0.2.1->google-auth<3,>=1.6.3->tensorboard<2.14,>=2.13->tensorflow-intel==2.13.0->tensorflow) (0.6.0)\n",
      "Requirement already satisfied: oauthlib>=3.0.0 in c:\\users\\munee\\anaconda3\\envs\\sp_env\\lib\\site-packages (from requests-oauthlib>=0.7.0->google-auth-oauthlib<1.1,>=0.5->tensorboard<2.14,>=2.13->tensorflow-intel==2.13.0->tensorflow) (3.2.2)\n"
     ]
    }
   ],
   "source": [
    "!pip install keras\n",
    "!pip install tensorflow"
   ]
  },
  {
   "cell_type": "code",
   "execution_count": 45,
   "id": "a5152eb9-456d-4e8d-b0b5-37fc0d183db8",
   "metadata": {},
   "outputs": [],
   "source": [
    "import pandas as pd\n",
    "import numpy as np\n",
    "import tensorflow as tf"
   ]
  },
  {
   "cell_type": "code",
   "execution_count": 46,
   "id": "370c99c4-f288-4580-aa83-8106f3a382e1",
   "metadata": {},
   "outputs": [],
   "source": [
    "from numpy import array"
   ]
  },
  {
   "cell_type": "code",
   "execution_count": 59,
   "id": "c6faacf1-ee6e-44bb-bad5-1c5ba1c22606",
   "metadata": {},
   "outputs": [
    {
     "name": "stdout",
     "output_type": "stream",
     "text": [
      "[2163480 3362496 3247884] 5631955\n",
      "[3362496 3247884 5631955] 5501340\n",
      "[3247884 5631955 5501340] 3422760\n",
      "[5631955 5501340 3422760] 3197472\n",
      "[5501340 3422760 3197472] 2127160\n",
      "[3422760 3197472 2127160] 2002725\n"
     ]
    }
   ],
   "source": [
    "def split_sequence(sequence,n_steps):\n",
    "    x,y=list(),list()\n",
    "    for i in range (len(sequence)):\n",
    "        end_ix=i+n_steps\n",
    "        if end_ix>len(sequence)-1:\n",
    "            break\n",
    "        seq_x,seq_y=sequence[i:end_ix],sequence[end_ix]\n",
    "        x.append(seq_x)\n",
    "        y.append(seq_y)\n",
    "    return array(x),array(y)\n",
    "\n",
    "\n",
    "#day wise cashflow in an organisation\n",
    "raw_seq=[2163480,3362496,3247884,5631955,5501340,3422760,3197472,2127160,2002725]\n",
    "n_steps=3\n",
    "x,y=split_sequence(raw_seq,n_steps)\n",
    "for i in range(len(x)):\n",
    "    print(x[i],y[i])"
   ]
  },
  {
   "cell_type": "code",
   "execution_count": 80,
   "id": "78ff290c-8dad-45a0-bec6-0e8286947c4f",
   "metadata": {},
   "outputs": [],
   "source": [
    "from tensorflow.keras.models import Sequential\n",
    "from tensorflow.keras.layers import LSTM, Dense, Bidirectional"
   ]
  },
  {
   "cell_type": "code",
   "execution_count": 60,
   "id": "be8bfb19-9d39-46e5-ac6c-658b5b8d198c",
   "metadata": {},
   "outputs": [],
   "source": [
    "raw_seq=[2163480,3362496,3247884,5631955,5501340,3422760,3197472,2127160,2002725]\n",
    "n_steps=3\n",
    "x,y=split_sequence(raw_seq,n_steps)"
   ]
  },
  {
   "cell_type": "code",
   "execution_count": 61,
   "id": "377fcaa8-3524-4e4b-89ed-d3ea6e395646",
   "metadata": {},
   "outputs": [
    {
     "data": {
      "text/plain": [
       "array([[2163480, 3362496, 3247884],\n",
       "       [3362496, 3247884, 5631955],\n",
       "       [3247884, 5631955, 5501340],\n",
       "       [5631955, 5501340, 3422760],\n",
       "       [5501340, 3422760, 3197472],\n",
       "       [3422760, 3197472, 2127160]])"
      ]
     },
     "execution_count": 61,
     "metadata": {},
     "output_type": "execute_result"
    }
   ],
   "source": [
    "x"
   ]
  },
  {
   "cell_type": "code",
   "execution_count": 62,
   "id": "5fce8924-205b-46c1-97c3-11fd6322b32b",
   "metadata": {},
   "outputs": [
    {
     "data": {
      "text/plain": [
       "array([5631955, 5501340, 3422760, 3197472, 2127160, 2002725])"
      ]
     },
     "execution_count": 62,
     "metadata": {},
     "output_type": "execute_result"
    }
   ],
   "source": [
    "y"
   ]
  },
  {
   "cell_type": "code",
   "execution_count": 63,
   "id": "c650ec01-cef4-4b81-a029-9642f88d07b4",
   "metadata": {},
   "outputs": [],
   "source": [
    "n_features=1\n",
    "x=x.reshape((x.shape[0],x.shape[1],n_features))"
   ]
  },
  {
   "cell_type": "code",
   "execution_count": 64,
   "id": "ac7d98b0-a330-46f6-b41c-eb76c0e8e848",
   "metadata": {},
   "outputs": [
    {
     "data": {
      "text/plain": [
       "array([[[2163480],\n",
       "        [3362496],\n",
       "        [3247884]],\n",
       "\n",
       "       [[3362496],\n",
       "        [3247884],\n",
       "        [5631955]],\n",
       "\n",
       "       [[3247884],\n",
       "        [5631955],\n",
       "        [5501340]],\n",
       "\n",
       "       [[5631955],\n",
       "        [5501340],\n",
       "        [3422760]],\n",
       "\n",
       "       [[5501340],\n",
       "        [3422760],\n",
       "        [3197472]],\n",
       "\n",
       "       [[3422760],\n",
       "        [3197472],\n",
       "        [2127160]]])"
      ]
     },
     "execution_count": 64,
     "metadata": {},
     "output_type": "execute_result"
    }
   ],
   "source": [
    "x"
   ]
  },
  {
   "cell_type": "code",
   "execution_count": 65,
   "id": "62b126e8-d685-41b3-a238-0ae0013bb34e",
   "metadata": {},
   "outputs": [
    {
     "data": {
      "text/plain": [
       "<keras.src.callbacks.History at 0x190a8fe4bb0>"
      ]
     },
     "execution_count": 65,
     "metadata": {},
     "output_type": "execute_result"
    }
   ],
   "source": [
    "model1=Sequential()\n",
    "model1.add(LSTM(50,activation='relu',input_shape=(n_steps,n_features)))\n",
    "model1.add(Dense(1))\n",
    "model1.compile(optimizer='adam',loss='mse')\n",
    "model1.fit(x,y,epochs=200,verbose=0)"
   ]
  },
  {
   "cell_type": "code",
   "execution_count": 69,
   "id": "eedf45b1-e61a-43fe-935f-5aa5aeaec961",
   "metadata": {},
   "outputs": [
    {
     "name": "stdout",
     "output_type": "stream",
     "text": [
      "[[2029895.2]]\n"
     ]
    }
   ],
   "source": [
    "x_input=array([5501340, 3422760, 3197472])\n",
    "x_input=x_input.reshape(1,n_steps,n_features)\n",
    "yhat=model1.predict(x_input,verbose=0)\n",
    "print(yhat)"
   ]
  },
  {
   "cell_type": "code",
   "execution_count": 70,
   "id": "9a9cd22e-92bd-413e-ac5d-afa83ee4e83d",
   "metadata": {},
   "outputs": [],
   "source": [
    "#MODEL1 LSTM IS GETTING APPROX PRIDICTION SO MOVING TO stacked lstm\n",
    "#stacked lstm HAS MULTIPLE HIDDEN LAYERS UNDERSTAND COMLEX PATTERNS AND DEPENDENCIES IN DATA"
   ]
  },
  {
   "cell_type": "code",
   "execution_count": 87,
   "id": "89d396e9-af4a-4e07-a79c-68613fed135a",
   "metadata": {},
   "outputs": [
    {
     "name": "stdout",
     "output_type": "stream",
     "text": [
      "[[2566890.5]]\n"
     ]
    }
   ],
   "source": [
    "model2=Sequential()\n",
    "model2.add(LSTM(50,activation='relu',return_sequences=True,input_shape=(n_steps,n_features)))\n",
    "model2.add(LSTM(60,activation='relu'))\n",
    "model2.add(Dense(1))\n",
    "model2.compile(optimizer='adam',loss='mse')\n",
    "model2.fit(x,y,epochs=200,verbose=0)\n",
    "\n",
    "x_input=array([5501340,3422760,3197472])\n",
    "x_input=x_input.reshape(1,n_steps,n_features)\n",
    "yhat2=model2.predict(x_input,verbose=0)\n",
    "print(yhat2)"
   ]
  },
  {
   "cell_type": "code",
   "execution_count": 79,
   "id": "393f8652-4584-4d2d-95f6-e23f9fa1b8a1",
   "metadata": {},
   "outputs": [],
   "source": [
    "#stacked lstm also not predicting well so we are going with BIDIRECTIONAL"
   ]
  },
  {
   "cell_type": "code",
   "execution_count": 95,
   "id": "4b1321cd-e413-4805-a32b-e9f2b1d02740",
   "metadata": {},
   "outputs": [
    {
     "name": "stdout",
     "output_type": "stream",
     "text": [
      "WARNING:tensorflow:6 out of the last 8 calls to <function Model.make_predict_function.<locals>.predict_function at 0x00000190C1022280> triggered tf.function retracing. Tracing is expensive and the excessive number of tracings could be due to (1) creating @tf.function repeatedly in a loop, (2) passing tensors with different shapes, (3) passing Python objects instead of tensors. For (1), please define your @tf.function outside of the loop. For (2), @tf.function has reduce_retracing=True option that can avoid unnecessary retracing. For (3), please refer to https://www.tensorflow.org/guide/function#controlling_retracing and https://www.tensorflow.org/api_docs/python/tf/function for  more details.\n",
      "[[2371641.5]]\n"
     ]
    }
   ],
   "source": [
    "x = x.astype(np.float32)\n",
    "y = y.astype(np.float32)\n",
    "\n",
    "model3=Sequential()\n",
    "model3.add(Bidirectional(LSTM(50,activation='relu',input_shape=(n_steps,n_features))))\n",
    "model3.add(Dense(1))\n",
    "model3.compile(optimizer='adam',loss='mse')\n",
    "model3.fit(x,y,epochs=200,verbose=0)\n",
    "\n",
    "\n",
    "x_input=np.array([5501340,3422760,3197472],dtype=np.float32)\n",
    "x_input=x_input.reshape(1,n_steps,n_features)\n",
    "yhat3=model3.predict(x_input,verbose=0)\n",
    "print(yhat3)"
   ]
  },
  {
   "cell_type": "code",
   "execution_count": 96,
   "id": "e20d14ba-bb2e-490e-9316-968cbc975d0f",
   "metadata": {},
   "outputs": [],
   "source": [
    "#Bidirectional LSTM also giving higher than actual so using convolutional"
   ]
  },
  {
   "cell_type": "code",
   "execution_count": 99,
   "id": "081f9077-703d-4432-b89c-cd3309147365",
   "metadata": {},
   "outputs": [],
   "source": [
    "from tensorflow.keras.layers import Dense\n",
    "from tensorflow.keras.layers import Flatten\n",
    "from tensorflow.keras.layers import TimeDistributed\n",
    "from tensorflow.keras.layers import Conv1D\n",
    "from tensorflow.keras.layers import MaxPooling1D\n",
    "from tensorflow.keras.layers import ConvLSTM2D"
   ]
  },
  {
   "cell_type": "code",
   "execution_count": 100,
   "id": "8833a609-f0a7-48d1-a295-35964ae1bfd5",
   "metadata": {},
   "outputs": [
    {
     "name": "stdout",
     "output_type": "stream",
     "text": [
      "[2163480 3362496 3247884 5631955] 5501340\n",
      "[3362496 3247884 5631955 5501340] 3422760\n",
      "[3247884 5631955 5501340 3422760] 3197472\n",
      "[5631955 5501340 3422760 3197472] 2127160\n",
      "[5501340 3422760 3197472 2127160] 2002725\n"
     ]
    }
   ],
   "source": [
    "raw_seq=[2163480,3362496,3247884,5631955,5501340,3422760,3197472,2127160,2002725]\n",
    "n_steps=4\n",
    "x,y=split_sequence(raw_seq,n_steps)\n",
    "for i in range(len(x)):\n",
    "    print(x[i],y[i])\n",
    "    \n"
   ]
  },
  {
   "cell_type": "code",
   "execution_count": 103,
   "id": "7f576016-fa53-423e-bce7-6eb1768e4ef1",
   "metadata": {},
   "outputs": [
    {
     "data": {
      "text/plain": [
       "array([[[[[2163480],\n",
       "          [3362496]]],\n",
       "\n",
       "\n",
       "        [[[3247884],\n",
       "          [5631955]]]],\n",
       "\n",
       "\n",
       "\n",
       "       [[[[3362496],\n",
       "          [3247884]]],\n",
       "\n",
       "\n",
       "        [[[5631955],\n",
       "          [5501340]]]],\n",
       "\n",
       "\n",
       "\n",
       "       [[[[3247884],\n",
       "          [5631955]]],\n",
       "\n",
       "\n",
       "        [[[5501340],\n",
       "          [3422760]]]],\n",
       "\n",
       "\n",
       "\n",
       "       [[[[5631955],\n",
       "          [5501340]]],\n",
       "\n",
       "\n",
       "        [[[3422760],\n",
       "          [3197472]]]],\n",
       "\n",
       "\n",
       "\n",
       "       [[[[5501340],\n",
       "          [3422760]]],\n",
       "\n",
       "\n",
       "        [[[3197472],\n",
       "          [2127160]]]]])"
      ]
     },
     "execution_count": 103,
     "metadata": {},
     "output_type": "execute_result"
    }
   ],
   "source": [
    "n_features=1\n",
    "n_steps=2\n",
    "n_seq=2\n",
    "x=x.reshape((x.shape[0],n_seq,1,n_steps,n_features))\n",
    "x"
   ]
  },
  {
   "cell_type": "code",
   "execution_count": 108,
   "id": "2fa90638-e47d-4196-807c-4c46d43a3027",
   "metadata": {},
   "outputs": [
    {
     "name": "stdout",
     "output_type": "stream",
     "text": [
      "[[2795696.2]]\n"
     ]
    }
   ],
   "source": [
    "model4=Sequential()\n",
    "model4.add(ConvLSTM2D(filters=64,kernel_size=(1,2),activation='relu',input_shape=(n_seq,1,n_steps,n_features)))\n",
    "model4.add(Flatten())\n",
    "model4.add(Dense(1))\n",
    "model4.compile(optimizer='adam',loss='mse')\n",
    "model4.fit(x,y,epochs=200,verbose=0)\n",
    "\n",
    "x_input=array([5631955,5501340,3422760,3197472])\n",
    "x_input=x_input.reshape((1,n_seq,1,n_steps,n_features))\n",
    "yhat4=model4.predict(x_input,verbose=0)\n",
    "print(yhat4)"
   ]
  },
  {
   "cell_type": "code",
   "execution_count": null,
   "id": "bc566610-496d-4709-9886-a8468acd7641",
   "metadata": {},
   "outputs": [],
   "source": [
    "#actual is 2127160"
   ]
  }
 ],
 "metadata": {
  "kernelspec": {
   "display_name": "Python 3 (ipykernel)",
   "language": "python",
   "name": "python3"
  },
  "language_info": {
   "codemirror_mode": {
    "name": "ipython",
    "version": 3
   },
   "file_extension": ".py",
   "mimetype": "text/x-python",
   "name": "python",
   "nbconvert_exporter": "python",
   "pygments_lexer": "ipython3",
   "version": "3.8.19"
  }
 },
 "nbformat": 4,
 "nbformat_minor": 5
}
