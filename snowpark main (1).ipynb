{
 "cells": [
  {
   "cell_type": "code",
   "execution_count": 628,
   "id": "78137e80-2b1e-417f-8b8a-c27b9a1ec2d9",
   "metadata": {},
   "outputs": [
    {
     "name": "stdout",
     "output_type": "stream",
     "text": [
      "Requirement already satisfied: snowflake-snowpark-python in c:\\users\\munee\\anaconda3\\envs\\sp_env\\lib\\site-packages (1.21.0)\n",
      "Requirement already satisfied: setuptools>=40.6.0 in c:\\users\\munee\\anaconda3\\envs\\sp_env\\lib\\site-packages (from snowflake-snowpark-python) (69.5.1)\n",
      "Requirement already satisfied: wheel in c:\\users\\munee\\anaconda3\\envs\\sp_env\\lib\\site-packages (from snowflake-snowpark-python) (0.43.0)\n",
      "Requirement already satisfied: snowflake-connector-python<4.0.0,>=3.10.0 in c:\\users\\munee\\anaconda3\\envs\\sp_env\\lib\\site-packages (from snowflake-snowpark-python) (3.12.1)\n",
      "Requirement already satisfied: typing-extensions<5.0.0,>=4.1.0 in c:\\users\\munee\\anaconda3\\envs\\sp_env\\lib\\site-packages (from snowflake-snowpark-python) (4.11.0)\n",
      "Requirement already satisfied: pyyaml in c:\\users\\munee\\anaconda3\\envs\\sp_env\\lib\\site-packages (from snowflake-snowpark-python) (6.0.1)\n",
      "Requirement already satisfied: cloudpickle!=2.1.0,!=2.2.0,<=2.2.1,>=1.6.0 in c:\\users\\munee\\anaconda3\\envs\\sp_env\\lib\\site-packages (from snowflake-snowpark-python) (2.2.1)\n",
      "Requirement already satisfied: asn1crypto<2.0.0,>0.24.0 in c:\\users\\munee\\anaconda3\\envs\\sp_env\\lib\\site-packages (from snowflake-connector-python<4.0.0,>=3.10.0->snowflake-snowpark-python) (1.5.1)\n",
      "Requirement already satisfied: cffi<2.0.0,>=1.9 in c:\\users\\munee\\anaconda3\\envs\\sp_env\\lib\\site-packages (from snowflake-connector-python<4.0.0,>=3.10.0->snowflake-snowpark-python) (1.16.0)\n",
      "Requirement already satisfied: cryptography>=3.1.0 in c:\\users\\munee\\anaconda3\\envs\\sp_env\\lib\\site-packages (from snowflake-connector-python<4.0.0,>=3.10.0->snowflake-snowpark-python) (42.0.5)\n",
      "Requirement already satisfied: pyOpenSSL<25.0.0,>=16.2.0 in c:\\users\\munee\\anaconda3\\envs\\sp_env\\lib\\site-packages (from snowflake-connector-python<4.0.0,>=3.10.0->snowflake-snowpark-python) (24.2.1)\n",
      "Requirement already satisfied: pyjwt<3.0.0 in c:\\users\\munee\\anaconda3\\envs\\sp_env\\lib\\site-packages (from snowflake-connector-python<4.0.0,>=3.10.0->snowflake-snowpark-python) (2.8.0)\n",
      "Requirement already satisfied: pytz in c:\\users\\munee\\anaconda3\\envs\\sp_env\\lib\\site-packages (from snowflake-connector-python<4.0.0,>=3.10.0->snowflake-snowpark-python) (2024.1)\n",
      "Requirement already satisfied: requests<3.0.0 in c:\\users\\munee\\anaconda3\\envs\\sp_env\\lib\\site-packages (from snowflake-connector-python<4.0.0,>=3.10.0->snowflake-snowpark-python) (2.32.3)\n",
      "Requirement already satisfied: packaging in c:\\users\\munee\\anaconda3\\envs\\sp_env\\lib\\site-packages (from snowflake-connector-python<4.0.0,>=3.10.0->snowflake-snowpark-python) (24.1)\n",
      "Requirement already satisfied: charset-normalizer<4,>=2 in c:\\users\\munee\\anaconda3\\envs\\sp_env\\lib\\site-packages (from snowflake-connector-python<4.0.0,>=3.10.0->snowflake-snowpark-python) (3.3.2)\n",
      "Requirement already satisfied: idna<4,>=2.5 in c:\\users\\munee\\anaconda3\\envs\\sp_env\\lib\\site-packages (from snowflake-connector-python<4.0.0,>=3.10.0->snowflake-snowpark-python) (3.7)\n",
      "Requirement already satisfied: certifi>=2017.4.17 in c:\\users\\munee\\anaconda3\\envs\\sp_env\\lib\\site-packages (from snowflake-connector-python<4.0.0,>=3.10.0->snowflake-snowpark-python) (2024.7.4)\n",
      "Requirement already satisfied: filelock<4,>=3.5 in c:\\users\\munee\\anaconda3\\envs\\sp_env\\lib\\site-packages (from snowflake-connector-python<4.0.0,>=3.10.0->snowflake-snowpark-python) (3.13.1)\n",
      "Requirement already satisfied: sortedcontainers>=2.4.0 in c:\\users\\munee\\anaconda3\\envs\\sp_env\\lib\\site-packages (from snowflake-connector-python<4.0.0,>=3.10.0->snowflake-snowpark-python) (2.4.0)\n",
      "Requirement already satisfied: platformdirs<5.0.0,>=2.6.0 in c:\\users\\munee\\anaconda3\\envs\\sp_env\\lib\\site-packages (from snowflake-connector-python<4.0.0,>=3.10.0->snowflake-snowpark-python) (3.10.0)\n",
      "Requirement already satisfied: tomlkit in c:\\users\\munee\\anaconda3\\envs\\sp_env\\lib\\site-packages (from snowflake-connector-python<4.0.0,>=3.10.0->snowflake-snowpark-python) (0.11.1)\n",
      "Requirement already satisfied: urllib3<2.0.0,>=1.21.1 in c:\\users\\munee\\anaconda3\\envs\\sp_env\\lib\\site-packages (from snowflake-connector-python<4.0.0,>=3.10.0->snowflake-snowpark-python) (1.26.19)\n",
      "Requirement already satisfied: pycparser in c:\\users\\munee\\anaconda3\\envs\\sp_env\\lib\\site-packages (from cffi<2.0.0,>=1.9->snowflake-connector-python<4.0.0,>=3.10.0->snowflake-snowpark-python) (2.21)\n"
     ]
    }
   ],
   "source": [
    "!pip install snowflake-snowpark-python"
   ]
  },
  {
   "cell_type": "code",
   "execution_count": 629,
   "id": "05ad7d3d-d592-49f4-9f2a-5b735d1221ad",
   "metadata": {},
   "outputs": [
    {
     "name": "stdout",
     "output_type": "stream",
     "text": [
      "Requirement already satisfied: snowflake-connector-python[pandas] in c:\\users\\munee\\anaconda3\\envs\\sp_env\\lib\\site-packages (3.12.1)\n",
      "Requirement already satisfied: asn1crypto<2.0.0,>0.24.0 in c:\\users\\munee\\anaconda3\\envs\\sp_env\\lib\\site-packages (from snowflake-connector-python[pandas]) (1.5.1)\n",
      "Requirement already satisfied: cffi<2.0.0,>=1.9 in c:\\users\\munee\\anaconda3\\envs\\sp_env\\lib\\site-packages (from snowflake-connector-python[pandas]) (1.16.0)\n",
      "Requirement already satisfied: cryptography>=3.1.0 in c:\\users\\munee\\anaconda3\\envs\\sp_env\\lib\\site-packages (from snowflake-connector-python[pandas]) (42.0.5)\n",
      "Requirement already satisfied: pyOpenSSL<25.0.0,>=16.2.0 in c:\\users\\munee\\anaconda3\\envs\\sp_env\\lib\\site-packages (from snowflake-connector-python[pandas]) (24.2.1)\n",
      "Requirement already satisfied: pyjwt<3.0.0 in c:\\users\\munee\\anaconda3\\envs\\sp_env\\lib\\site-packages (from snowflake-connector-python[pandas]) (2.8.0)\n",
      "Requirement already satisfied: pytz in c:\\users\\munee\\anaconda3\\envs\\sp_env\\lib\\site-packages (from snowflake-connector-python[pandas]) (2024.1)\n",
      "Requirement already satisfied: requests<3.0.0 in c:\\users\\munee\\anaconda3\\envs\\sp_env\\lib\\site-packages (from snowflake-connector-python[pandas]) (2.32.3)\n",
      "Requirement already satisfied: packaging in c:\\users\\munee\\anaconda3\\envs\\sp_env\\lib\\site-packages (from snowflake-connector-python[pandas]) (24.1)\n",
      "Requirement already satisfied: charset-normalizer<4,>=2 in c:\\users\\munee\\anaconda3\\envs\\sp_env\\lib\\site-packages (from snowflake-connector-python[pandas]) (3.3.2)\n",
      "Requirement already satisfied: idna<4,>=2.5 in c:\\users\\munee\\anaconda3\\envs\\sp_env\\lib\\site-packages (from snowflake-connector-python[pandas]) (3.7)\n",
      "Requirement already satisfied: certifi>=2017.4.17 in c:\\users\\munee\\anaconda3\\envs\\sp_env\\lib\\site-packages (from snowflake-connector-python[pandas]) (2024.7.4)\n",
      "Requirement already satisfied: typing-extensions<5,>=4.3 in c:\\users\\munee\\anaconda3\\envs\\sp_env\\lib\\site-packages (from snowflake-connector-python[pandas]) (4.11.0)\n",
      "Requirement already satisfied: filelock<4,>=3.5 in c:\\users\\munee\\anaconda3\\envs\\sp_env\\lib\\site-packages (from snowflake-connector-python[pandas]) (3.13.1)\n",
      "Requirement already satisfied: sortedcontainers>=2.4.0 in c:\\users\\munee\\anaconda3\\envs\\sp_env\\lib\\site-packages (from snowflake-connector-python[pandas]) (2.4.0)\n",
      "Requirement already satisfied: platformdirs<5.0.0,>=2.6.0 in c:\\users\\munee\\anaconda3\\envs\\sp_env\\lib\\site-packages (from snowflake-connector-python[pandas]) (3.10.0)\n",
      "Requirement already satisfied: tomlkit in c:\\users\\munee\\anaconda3\\envs\\sp_env\\lib\\site-packages (from snowflake-connector-python[pandas]) (0.11.1)\n",
      "Requirement already satisfied: urllib3<2.0.0,>=1.21.1 in c:\\users\\munee\\anaconda3\\envs\\sp_env\\lib\\site-packages (from snowflake-connector-python[pandas]) (1.26.19)\n",
      "Requirement already satisfied: pandas<3.0.0,>=1.0.0 in c:\\users\\munee\\anaconda3\\envs\\sp_env\\lib\\site-packages (from snowflake-connector-python[pandas]) (2.0.3)\n",
      "Requirement already satisfied: pyarrow in c:\\users\\munee\\anaconda3\\envs\\sp_env\\lib\\site-packages (from snowflake-connector-python[pandas]) (17.0.0)\n",
      "Requirement already satisfied: pycparser in c:\\users\\munee\\anaconda3\\envs\\sp_env\\lib\\site-packages (from cffi<2.0.0,>=1.9->snowflake-connector-python[pandas]) (2.21)\n",
      "Requirement already satisfied: python-dateutil>=2.8.2 in c:\\users\\munee\\anaconda3\\envs\\sp_env\\lib\\site-packages (from pandas<3.0.0,>=1.0.0->snowflake-connector-python[pandas]) (2.9.0)\n",
      "Requirement already satisfied: tzdata>=2022.1 in c:\\users\\munee\\anaconda3\\envs\\sp_env\\lib\\site-packages (from pandas<3.0.0,>=1.0.0->snowflake-connector-python[pandas]) (2023.3)\n",
      "Requirement already satisfied: numpy>=1.20.3 in c:\\users\\munee\\anaconda3\\envs\\sp_env\\lib\\site-packages (from pandas<3.0.0,>=1.0.0->snowflake-connector-python[pandas]) (1.24.3)\n",
      "Requirement already satisfied: six>=1.5 in c:\\users\\munee\\anaconda3\\envs\\sp_env\\lib\\site-packages (from python-dateutil>=2.8.2->pandas<3.0.0,>=1.0.0->snowflake-connector-python[pandas]) (1.16.0)\n"
     ]
    }
   ],
   "source": [
    "\n",
    "!pip install snowflake-connector-python[pandas]"
   ]
  },
  {
   "cell_type": "code",
   "execution_count": 630,
   "id": "3856ed22-baa7-4e08-844f-6069930042b4",
   "metadata": {},
   "outputs": [
    {
     "name": "stdout",
     "output_type": "stream",
     "text": [
      "Requirement already satisfied: cachetools in c:\\users\\munee\\anaconda3\\envs\\sp_env\\lib\\site-packages (5.5.0)\n"
     ]
    }
   ],
   "source": [
    "!pip install cachetools"
   ]
  },
  {
   "cell_type": "code",
   "execution_count": 631,
   "id": "c4724c57-e956-4006-a0cb-04fb5871132b",
   "metadata": {},
   "outputs": [],
   "source": [
    "from snowflake.connector.pandas_tools import write_pandas"
   ]
  },
  {
   "cell_type": "code",
   "execution_count": 632,
   "id": "dd38efae-ea0e-46d5-ab98-e11bcff87fda",
   "metadata": {},
   "outputs": [],
   "source": [
    "from snowflake.snowpark.session import Session\n",
    "import pandas as pd\n",
    "housing=pd.read_csv(\"housing_dataset.csv\")\n",
    "\n",
    "connection_parameter={\n",
    "     \"account\": \"xw90760.ap-southeast-1\",\n",
    "    \"user\": \"MUNEERSAYYED\",\n",
    "    \"password\": \"Muneer@786\",  # Ensure the password is correct and secure\n",
    "    \"database\": \"SNOWFLAKE_MUNEER\",\n",
    "    \"schema\": \"TEST_SCHEMA\",\n",
    "    \"warehouse\": \"compute_wh\",\n",
    "    \"role\": \"Accountadmin\"   \n",
    "}\n",
    "session=Session.builder.configs(connection_parameter).create()\n",
    "session1=Session.builder.configs(connection_parameter).create()"
   ]
  },
  {
   "cell_type": "code",
   "execution_count": 633,
   "id": "a667a2a2-cd70-4c0e-8cd2-2b323fe3f3ba",
   "metadata": {},
   "outputs": [
    {
     "data": {
      "text/plain": [
       "[Row(status='Table HOUSING_DATA successfully created.')]"
      ]
     },
     "execution_count": 633,
     "metadata": {},
     "output_type": "execute_result"
    }
   ],
   "source": [
    "query = \"\"\"CREATE OR REPLACE TABLE HOUSING_DATA (\n",
    "    LONGITUDE FLOAT,\n",
    "    LATITUDE FLOAT,\n",
    "    HOUSING_MEDIAN_AGE FLOAT,\n",
    "    TOTAL_ROOMS FLOAT,\n",
    "    TOTAL_BEDROOMS FLOAT,\n",
    "    POPULATION FLOAT,\n",
    "    HOUSEHOLDS FLOAT,\n",
    "    MEDIAN_INCOME FLOAT,\n",
    "    MEDIAN_HOUSE_VALUE FLOAT,\n",
    "    OCEAN_PROXIMITY VARCHAR\n",
    ")\"\"\"\n",
    "session.sql(query).collect()"
   ]
  },
  {
   "cell_type": "code",
   "execution_count": 634,
   "id": "4f050650-aca8-4152-a032-a937f9ca864b",
   "metadata": {},
   "outputs": [],
   "source": [
    "housing.columns=[x.upper() for x in housing.columns]"
   ]
  },
  {
   "cell_type": "code",
   "execution_count": 635,
   "id": "681e615b-c018-48f8-8e30-b9ae114ab694",
   "metadata": {},
   "outputs": [
    {
     "data": {
      "text/html": [
       "<div>\n",
       "<style scoped>\n",
       "    .dataframe tbody tr th:only-of-type {\n",
       "        vertical-align: middle;\n",
       "    }\n",
       "\n",
       "    .dataframe tbody tr th {\n",
       "        vertical-align: top;\n",
       "    }\n",
       "\n",
       "    .dataframe thead th {\n",
       "        text-align: right;\n",
       "    }\n",
       "</style>\n",
       "<table border=\"1\" class=\"dataframe\">\n",
       "  <thead>\n",
       "    <tr style=\"text-align: right;\">\n",
       "      <th></th>\n",
       "      <th>LONGITUDE</th>\n",
       "      <th>LATITUDE</th>\n",
       "      <th>HOUSING_MEDIAN_AGE</th>\n",
       "      <th>TOTAL_ROOMS</th>\n",
       "      <th>TOTAL_BEDROOMS</th>\n",
       "      <th>POPULATION</th>\n",
       "      <th>HOUSEHOLDS</th>\n",
       "      <th>MEDIAN_INCOME</th>\n",
       "      <th>MEDIAN_HOUSE_VALUE</th>\n",
       "      <th>OCEAN_PROXIMITY</th>\n",
       "    </tr>\n",
       "  </thead>\n",
       "  <tbody>\n",
       "    <tr>\n",
       "      <th>0</th>\n",
       "      <td>-122.23</td>\n",
       "      <td>37.88</td>\n",
       "      <td>41</td>\n",
       "      <td>880</td>\n",
       "      <td>129.0</td>\n",
       "      <td>322</td>\n",
       "      <td>126</td>\n",
       "      <td>8.3252</td>\n",
       "      <td>452600</td>\n",
       "      <td>NEAR BAY</td>\n",
       "    </tr>\n",
       "    <tr>\n",
       "      <th>1</th>\n",
       "      <td>-122.22</td>\n",
       "      <td>37.86</td>\n",
       "      <td>21</td>\n",
       "      <td>7099</td>\n",
       "      <td>1106.0</td>\n",
       "      <td>2401</td>\n",
       "      <td>1138</td>\n",
       "      <td>8.3014</td>\n",
       "      <td>358500</td>\n",
       "      <td>NEAR BAY</td>\n",
       "    </tr>\n",
       "    <tr>\n",
       "      <th>2</th>\n",
       "      <td>-122.24</td>\n",
       "      <td>37.85</td>\n",
       "      <td>52</td>\n",
       "      <td>1467</td>\n",
       "      <td>190.0</td>\n",
       "      <td>496</td>\n",
       "      <td>177</td>\n",
       "      <td>7.2574</td>\n",
       "      <td>352100</td>\n",
       "      <td>NEAR BAY</td>\n",
       "    </tr>\n",
       "    <tr>\n",
       "      <th>3</th>\n",
       "      <td>-122.25</td>\n",
       "      <td>37.85</td>\n",
       "      <td>52</td>\n",
       "      <td>1274</td>\n",
       "      <td>235.0</td>\n",
       "      <td>558</td>\n",
       "      <td>219</td>\n",
       "      <td>5.6431</td>\n",
       "      <td>341300</td>\n",
       "      <td>NEAR BAY</td>\n",
       "    </tr>\n",
       "    <tr>\n",
       "      <th>4</th>\n",
       "      <td>-122.25</td>\n",
       "      <td>37.85</td>\n",
       "      <td>52</td>\n",
       "      <td>1627</td>\n",
       "      <td>280.0</td>\n",
       "      <td>565</td>\n",
       "      <td>259</td>\n",
       "      <td>3.8462</td>\n",
       "      <td>342200</td>\n",
       "      <td>NEAR BAY</td>\n",
       "    </tr>\n",
       "  </tbody>\n",
       "</table>\n",
       "</div>"
      ],
      "text/plain": [
       "   LONGITUDE  LATITUDE  HOUSING_MEDIAN_AGE  TOTAL_ROOMS  TOTAL_BEDROOMS  \\\n",
       "0    -122.23     37.88                  41          880           129.0   \n",
       "1    -122.22     37.86                  21         7099          1106.0   \n",
       "2    -122.24     37.85                  52         1467           190.0   \n",
       "3    -122.25     37.85                  52         1274           235.0   \n",
       "4    -122.25     37.85                  52         1627           280.0   \n",
       "\n",
       "   POPULATION  HOUSEHOLDS  MEDIAN_INCOME  MEDIAN_HOUSE_VALUE OCEAN_PROXIMITY  \n",
       "0         322         126         8.3252              452600        NEAR BAY  \n",
       "1        2401        1138         8.3014              358500        NEAR BAY  \n",
       "2         496         177         7.2574              352100        NEAR BAY  \n",
       "3         558         219         5.6431              341300        NEAR BAY  \n",
       "4         565         259         3.8462              342200        NEAR BAY  "
      ]
     },
     "execution_count": 635,
     "metadata": {},
     "output_type": "execute_result"
    }
   ],
   "source": [
    "housing.head()"
   ]
  },
  {
   "cell_type": "code",
   "execution_count": 636,
   "id": "ab7d7eda-8670-482e-b003-0d240df84b4c",
   "metadata": {},
   "outputs": [],
   "source": [
    "snowpark_df= session.write_pandas(housing, \"HOUSING_DATA\")"
   ]
  },
  {
   "cell_type": "code",
   "execution_count": null,
   "id": "a2c4f6ad-0036-4e62-bd9b-a7ab4bdb1c4d",
   "metadata": {},
   "outputs": [],
   "source": []
  },
  {
   "cell_type": "code",
   "execution_count": null,
   "id": "9e06a9c4-40be-4fd3-b4c7-433a416dac59",
   "metadata": {},
   "outputs": [],
   "source": []
  },
  {
   "cell_type": "code",
   "execution_count": 637,
   "id": "2f807e97-f50d-4156-b499-a9b48ce01a7d",
   "metadata": {},
   "outputs": [
    {
     "name": "stdout",
     "output_type": "stream",
     "text": [
      "Requirement already satisfied: scikit-learn in c:\\users\\munee\\anaconda3\\envs\\sp_env\\lib\\site-packages (1.3.2)\n",
      "Requirement already satisfied: numpy<2.0,>=1.17.3 in c:\\users\\munee\\anaconda3\\envs\\sp_env\\lib\\site-packages (from scikit-learn) (1.24.3)\n",
      "Requirement already satisfied: scipy>=1.5.0 in c:\\users\\munee\\anaconda3\\envs\\sp_env\\lib\\site-packages (from scikit-learn) (1.10.1)\n",
      "Requirement already satisfied: joblib>=1.1.1 in c:\\users\\munee\\anaconda3\\envs\\sp_env\\lib\\site-packages (from scikit-learn) (1.4.2)\n",
      "Requirement already satisfied: threadpoolctl>=2.0.0 in c:\\users\\munee\\anaconda3\\envs\\sp_env\\lib\\site-packages (from scikit-learn) (3.5.0)\n",
      "Note: you may need to restart the kernel to use updated packages.\n"
     ]
    }
   ],
   "source": [
    "pip install scikit-learn"
   ]
  },
  {
   "cell_type": "code",
   "execution_count": 638,
   "id": "ebdafcfa-6d09-45a5-b451-8aea3433f4b6",
   "metadata": {},
   "outputs": [],
   "source": [
    "#MODEL BUILDING"
   ]
  },
  {
   "cell_type": "code",
   "execution_count": 639,
   "id": "cb13add7-69f5-4a6f-a4b4-e3dcafab217c",
   "metadata": {},
   "outputs": [],
   "source": [
    "import snowflake.snowpark\n",
    "from snowflake.snowpark.session import Session\n",
    "from snowflake.snowpark.functions import sproc\n",
    "\n",
    "from sklearn.impute import SimpleImputer\n",
    "from sklearn.pipeline import Pipeline\n",
    "from sklearn.preprocessing import StandardScaler\n",
    "from sklearn.preprocessing import OneHotEncoder\n",
    "from sklearn.ensemble import RandomForestRegressor\n",
    "from sklearn.metrics import mean_squared_error\n",
    "from sklearn.model_selection import train_test_split\n",
    "from sklearn.compose import ColumnTransformer\n",
    "\n",
    "import pandas as pd\n",
    "import numpy as np\n",
    "import datetime\n",
    "import io\n",
    "import joblib"
   ]
  },
  {
   "cell_type": "code",
   "execution_count": 640,
   "id": "199e42c6-f330-4dfc-9d64-fe41bb4e14d0",
   "metadata": {},
   "outputs": [],
   "source": [
    "connection_parameter={\n",
    "    \"account\": \"xw90760.ap-southeast-1\",\n",
    "    \"user\": \"MUNEERSAYYED\",\n",
    "    \"password\": \"Muneer@786\",  # Ensure the password is correct and secure\n",
    "    \"database\": \"SNOWFLAKE_MUNEER\",\n",
    "    \"schema\": \"TEST_SCHEMA\",\n",
    "    \"warehouse\": \"compute_wh\",\n",
    "    \"role\": \"Accountadmin\" \n",
    "}\n",
    "\n",
    "session1=Session.builder.configs(connection_parameter).create()"
   ]
  },
  {
   "cell_type": "code",
   "execution_count": 641,
   "id": "4f04f4bf-413c-41cf-b314-90005934645e",
   "metadata": {},
   "outputs": [
    {
     "name": "stderr",
     "output_type": "stream",
     "text": [
      "The version of package 'snowflake-snowpark-python' in the local environment is 1.21.0, which does not fit the criteria for the requirement 'snowflake-snowpark-python'. Your UDF might not work when the package version is different between the server and your local environment.\n",
      "The version of package 'scikit-learn' in the local environment is 1.3.2, which does not fit the criteria for the requirement 'scikit-learn'. Your UDF might not work when the package version is different between the server and your local environment.\n",
      "The version of package 'cachetools' in the local environment is 5.5.0, which does not fit the criteria for the requirement 'cachetools'. Your UDF might not work when the package version is different between the server and your local environment.\n"
     ]
    }
   ],
   "source": [
    "session1.add_packages('snowflake-snowpark-python','scikit-learn','pandas','numpy','cachetools')"
   ]
  },
  {
   "cell_type": "code",
   "execution_count": 642,
   "id": "3c304fd8-461e-49a5-8c8c-73e1609150ca",
   "metadata": {},
   "outputs": [],
   "source": [
    "snowpark_df= session1.write_pandas(housing, \"HOUSING_DATA\")"
   ]
  },
  {
   "cell_type": "code",
   "execution_count": null,
   "id": "0f8e0441-65c4-4896-8876-ea06ebad84df",
   "metadata": {},
   "outputs": [],
   "source": []
  },
  {
   "cell_type": "code",
   "execution_count": 643,
   "id": "5ad990ce-3bd7-4ea9-8047-20b5a6890946",
   "metadata": {},
   "outputs": [],
   "source": [
    "#CREATING STAGES IN SNOWFLAKE"
   ]
  },
  {
   "cell_type": "code",
   "execution_count": 644,
   "id": "e0d8fda0-fb37-4fff-990c-9cadb2723fc7",
   "metadata": {},
   "outputs": [
    {
     "data": {
      "text/plain": [
       "[Row(status='Stage area ML_OUTPUT_STAGE successfully created.')]"
      ]
     },
     "execution_count": 644,
     "metadata": {},
     "output_type": "execute_result"
    }
   ],
   "source": [
    "query=\"\"\"CREATE OR REPLACE STAGE ml_training_stage\n",
    "DIRECTORY=(ENABLE=TRUE)\n",
    "COPY_OPTIONS=(ON_ERROR='SKIP_FILE')\"\"\"\n",
    "session1.sql(query).collect()\n",
    "\n",
    "query=\"\"\"CREATE OR REPLACE STAGE ml_output_stage\n",
    "COPY_OPTIONS=(ON_ERROR='SKIP_FILE')\"\"\"\n",
    "session1.sql(query).collect()"
   ]
  },
  {
   "cell_type": "code",
   "execution_count": null,
   "id": "4507a18d-643b-4a0b-bf1b-a0bf9f221f23",
   "metadata": {},
   "outputs": [],
   "source": []
  },
  {
   "cell_type": "code",
   "execution_count": 645,
   "id": "3514a2e8-b835-48e1-ab25-1df2a48bff08",
   "metadata": {},
   "outputs": [],
   "source": [
    "#PREPROCESSING MODEL TRAINING AND FITTING"
   ]
  },
  {
   "cell_type": "code",
   "execution_count": 646,
   "id": "74579fbd-fd37-44e5-a929-31245b93e1a2",
   "metadata": {},
   "outputs": [],
   "source": [
    "def save_file(session1,model,path):\n",
    "    input_stream=io.BytesIO()\n",
    "    joblib.dump(model,input_stream)\n",
    "    session1._conn._cursor.upload_stream(input_stream,path)\n",
    "    return \"successfully created file: \"+path"
   ]
  },
  {
   "cell_type": "code",
   "execution_count": 647,
   "id": "de4ccf80-bd8c-4dc7-8b83-e2e2a4539b72",
   "metadata": {},
   "outputs": [],
   "source": [
    "def train_model(session1: snowflake.snowpark.Session) -> float:\n",
    "    # Load the data\n",
    "    snowdf = session1.table(\"HOUSING_DATA\")\n",
    "    \n",
    "    # Split the data into training and test sets\n",
    "    snowdf_train, snowdf_test = snowdf.random_split([0.8, 0.2], seed=82)  # Corrected the syntax here\n",
    "    \n",
    "    # Save the split data as tables\n",
    "    snowdf_train.write.save_as_table(\"HOUSING_TRAIN\", mode=\"overwrite\")\n",
    "    snowdf_test.write.save_as_table(\"HOUSING_TEST\", mode=\"overwrite\")\n",
    "    \n",
    "    # Convert Snowpark DataFrames to Pandas DataFrames\n",
    "    housing_train = snowdf_train.to_pandas().drop(\"MEDIAN_HOUSE_VALUE\", axis=1)\n",
    "    housing_train_labels = snowdf_train.to_pandas()[\"MEDIAN_HOUSE_VALUE\"]\n",
    "    housing_test = snowdf_test.to_pandas().drop(\"MEDIAN_HOUSE_VALUE\", axis=1)\n",
    "    housing_test_labels = snowdf_test.to_pandas()[\"MEDIAN_HOUSE_VALUE\"]\n",
    "    \n",
    "    # Separate numerical and categorical columns\n",
    "    housing_num = housing_train.drop(\"OCEAN_PROXIMITY\", axis=1)\n",
    "    \n",
    "    # Create pipelines for preprocessing\n",
    "    num_pipeline = Pipeline([\n",
    "        ('imputer', SimpleImputer(strategy=\"median\")),\n",
    "        ('std_scaler', StandardScaler()),\n",
    "    ])\n",
    "    \n",
    "    num_attribs = list(housing_num)\n",
    "    cat_attribs = [\"OCEAN_PROXIMITY\"]\n",
    "    \n",
    "    preprocessor = ColumnTransformer([\n",
    "        (\"num\", num_pipeline, num_attribs),\n",
    "        (\"cat\", OneHotEncoder(), cat_attribs)\n",
    "    ])\n",
    "    \n",
    "    # Full pipeline with model\n",
    "    full_pipeline = Pipeline([\n",
    "        (\"preprocess\", preprocessor),\n",
    "        (\"model\", RandomForestRegressor(n_estimators=100, random_state=22)),\n",
    "    ])\n",
    "    \n",
    "    # Train the model\n",
    "    full_pipeline.fit(housing_train, housing_train_labels)\n",
    "    \n",
    "    # Save the model\n",
    "    save_file(session1, full_pipeline, \"@ml_output_stage/housing_price_reg.joblib\")\n",
    "    \n",
    "    # Make predictions and calculate RMSE\n",
    "    housing_predictions = full_pipeline.predict(housing_test)\n",
    "    lin_mse = mean_squared_error(housing_test_labels, housing_predictions)\n",
    "    lin_rmse = np.sqrt(lin_mse)\n",
    "    \n",
    "    return lin_rmse\n"
   ]
  },
  {
   "cell_type": "code",
   "execution_count": 648,
   "id": "c3ecae11-3efa-4068-92fd-dc569e3ab5a1",
   "metadata": {},
   "outputs": [],
   "source": [
    "#CREATING SPROC"
   ]
  },
  {
   "cell_type": "code",
   "execution_count": 649,
   "id": "0dac7492-a51f-454e-88e5-bc32afa4f114",
   "metadata": {},
   "outputs": [
    {
     "name": "stderr",
     "output_type": "stream",
     "text": [
      "Got error object of type 'NoneType' has no len() when trying to read default values from function: <function train_model at 0x000001D0B156E820>. Proceeding without creating optional arguments\n"
     ]
    }
   ],
   "source": [
    "train_model_sp = sproc(func=train_model,\n",
    "    name='ml_model_hp',\n",
    "    stage_location='@ml_training_stage',\n",
    "    is_permanent=True,\n",
    "    replace=True,\n",
    "    session=session1\n",
    ")"
   ]
  },
  {
   "cell_type": "code",
   "execution_count": 650,
   "id": "7cb39d83-9ba4-4998-a614-6d2f1ff52146",
   "metadata": {},
   "outputs": [
    {
     "data": {
      "text/plain": [
       "27726.38707804281"
      ]
     },
     "execution_count": 650,
     "metadata": {},
     "output_type": "execute_result"
    }
   ],
   "source": [
    "train_model_sp(session=session1)"
   ]
  },
  {
   "cell_type": "code",
   "execution_count": 651,
   "id": "99a54282-356a-43f4-9948-a3bda361b8cd",
   "metadata": {},
   "outputs": [],
   "source": [
    "#SCHEDULE A TASK TO PERFORM MODEL TRAINING EVERY MONDAY AT 10 AM UTC"
   ]
  },
  {
   "cell_type": "code",
   "execution_count": 652,
   "id": "db524428-8ac3-44b5-bb0a-c0fa607e06a7",
   "metadata": {},
   "outputs": [
    {
     "data": {
      "text/plain": [
       "<snowflake.snowpark.dataframe.DataFrame at 0x1d0b2ba61f0>"
      ]
     },
     "execution_count": 652,
     "metadata": {},
     "output_type": "execute_result"
    }
   ],
   "source": [
    "sql=\"\"\"CREATE OR REPLACE TASK schedule_model_training\n",
    "WAREHOUSE=COMPUTE_WH\n",
    "SCHEDULE='USING CRON*10** MON UTC'\n",
    "AS\n",
    "call ml_model_hp();\"\"\"\n",
    "session1.sql(sql)"
   ]
  },
  {
   "cell_type": "code",
   "execution_count": 653,
   "id": "59084643-3d43-4020-8df2-22bcf92e6742",
   "metadata": {},
   "outputs": [],
   "source": [
    "#CREATE STAGE FOR MODEL SERVING UDF"
   ]
  },
  {
   "cell_type": "code",
   "execution_count": 654,
   "id": "a4aef37e-1336-42cd-94c1-f78cd70e601e",
   "metadata": {},
   "outputs": [
    {
     "data": {
      "text/plain": [
       "[Row(status='Stage area MODEL_SERVING_STAGE successfully created.')]"
      ]
     },
     "execution_count": 654,
     "metadata": {},
     "output_type": "execute_result"
    }
   ],
   "source": [
    "query=\"create or replace stage model_serving_stage\"\n",
    "\"copy_options=(on_error='skip_files')\"\n",
    "session1.sql(query).collect()"
   ]
  },
  {
   "cell_type": "code",
   "execution_count": null,
   "id": "60ff5230-88a7-4909-8467-f172993a9e50",
   "metadata": {},
   "outputs": [],
   "source": []
  },
  {
   "cell_type": "code",
   "execution_count": 655,
   "id": "02a76f0c-0df7-4a41-b2fa-b08fcd9b5155",
   "metadata": {},
   "outputs": [],
   "source": [
    "#CREATE UDF FOR PREDICTION SERVING"
   ]
  },
  {
   "cell_type": "code",
   "execution_count": 663,
   "id": "d02c74b7-4410-4e71-b949-d0629b901758",
   "metadata": {},
   "outputs": [
    {
     "name": "stderr",
     "output_type": "stream",
     "text": [
      "Got error object of type 'NoneType' has no len() when trying to read default values from function: <function predict_house_value at 0x000001D0B2BA9550>. Proceeding without creating optional arguments\n",
      "The version of package 'cachetools' in the local environment is 5.5.0, which does not fit the criteria for the requirement 'cachetools'. Your UDF might not work when the package version is different between the server and your local environment.\n",
      "The version of package 'scikit-learn' in the local environment is 1.3.2, which does not fit the criteria for the requirement 'scikit-learn'. Your UDF might not work when the package version is different between the server and your local environment.\n"
     ]
    }
   ],
   "source": [
    "import sys\n",
    "import cachetools\n",
    "import os\n",
    "import joblib\n",
    "import pandas as pd\n",
    "from snowflake.snowpark.functions import udf\n",
    "from snowflake.snowpark import Session\n",
    "\n",
    "# Assuming 'session1' is an active Snowpark session\n",
    "session1.add_import(\"@ml_output_stage/housing_price_reg.joblib\")\n",
    "\n",
    "@cachetools.cached(cache={})\n",
    "def read_file(filename):\n",
    "    import_dir = sys._xoptions.get(\"snowflake_import_directory\")\n",
    "    if import_dir:\n",
    "        with open(os.path.join(import_dir, filename), 'rb') as file:\n",
    "            m = joblib.load(file)\n",
    "            return m\n",
    "\n",
    "features = ['LONGITUDE', 'LATITUDE', 'HOUSING_MEDIAN_AGE', 'TOTAL_ROOMS', 'TOTAL_BEDROOMS', 'POPULATION', 'HOUSEHOLDS', 'MEDIAN_INCOME', 'OCEAN_PROXIMITY']\n",
    "\n",
    "@udf(name=\"predict_house_value\",\n",
    "     is_permanent=True,\n",
    "     replace=True,\n",
    "     stage_location='@model_serving_stage',\n",
    "     session=session1,  # Specify the session explicitly\n",
    "     packages=['pandas', 'joblib', 'cachetools','scikit-learn'])  # Include necessary packages\n",
    "def predict_house_value(LONGITUDE: float, LATITUDE: float, HOUSING_MEDIAN_AGE: float, TOTAL_ROOMS: float,\n",
    "                        TOTAL_BEDROOMS: float, POPULATION: float, HOUSEHOLDS: float, MEDIAN_INCOME: float,\n",
    "                        OCEAN_PROXIMITY: str) -> float:\n",
    "    m = read_file('housing_price_reg.joblib')\n",
    "    row = pd.DataFrame([locals()], columns=features)\n",
    "    return m.predict(row)[0]\n"
   ]
  },
  {
   "cell_type": "code",
   "execution_count": null,
   "id": "9481016a-6461-41fd-8b2a-b86d073fcb08",
   "metadata": {},
   "outputs": [],
   "source": []
  },
  {
   "cell_type": "code",
   "execution_count": 664,
   "id": "b92fb201-8bbc-435e-a347-b50bfa8c373b",
   "metadata": {},
   "outputs": [],
   "source": [
    "#RUN PREDICTIONS & MODEL SERVING"
   ]
  },
  {
   "cell_type": "code",
   "execution_count": 665,
   "id": "1381ad72-7651-44ff-9140-306f2e49b052",
   "metadata": {},
   "outputs": [
    {
     "data": {
      "text/html": [
       "<div>\n",
       "<style scoped>\n",
       "    .dataframe tbody tr th:only-of-type {\n",
       "        vertical-align: middle;\n",
       "    }\n",
       "\n",
       "    .dataframe tbody tr th {\n",
       "        vertical-align: top;\n",
       "    }\n",
       "\n",
       "    .dataframe thead th {\n",
       "        text-align: right;\n",
       "    }\n",
       "</style>\n",
       "<table border=\"1\" class=\"dataframe\">\n",
       "  <thead>\n",
       "    <tr style=\"text-align: right;\">\n",
       "      <th></th>\n",
       "      <th>PREDICTED_VALUES</th>\n",
       "      <th>ACTUAL_VALUE</th>\n",
       "    </tr>\n",
       "  </thead>\n",
       "  <tbody>\n",
       "    <tr>\n",
       "      <th>0</th>\n",
       "      <td>141170.00</td>\n",
       "      <td>140000.0</td>\n",
       "    </tr>\n",
       "    <tr>\n",
       "      <th>1</th>\n",
       "      <td>116557.00</td>\n",
       "      <td>110400.0</td>\n",
       "    </tr>\n",
       "    <tr>\n",
       "      <th>2</th>\n",
       "      <td>203602.00</td>\n",
       "      <td>191400.0</td>\n",
       "    </tr>\n",
       "    <tr>\n",
       "      <th>3</th>\n",
       "      <td>219942.00</td>\n",
       "      <td>188800.0</td>\n",
       "    </tr>\n",
       "    <tr>\n",
       "      <th>4</th>\n",
       "      <td>89831.00</td>\n",
       "      <td>87500.0</td>\n",
       "    </tr>\n",
       "    <tr>\n",
       "      <th>5</th>\n",
       "      <td>174585.05</td>\n",
       "      <td>75000.0</td>\n",
       "    </tr>\n",
       "    <tr>\n",
       "      <th>6</th>\n",
       "      <td>82437.00</td>\n",
       "      <td>75000.0</td>\n",
       "    </tr>\n",
       "    <tr>\n",
       "      <th>7</th>\n",
       "      <td>125752.03</td>\n",
       "      <td>112500.0</td>\n",
       "    </tr>\n",
       "    <tr>\n",
       "      <th>8</th>\n",
       "      <td>183338.13</td>\n",
       "      <td>137500.0</td>\n",
       "    </tr>\n",
       "    <tr>\n",
       "      <th>9</th>\n",
       "      <td>249404.01</td>\n",
       "      <td>257800.0</td>\n",
       "    </tr>\n",
       "    <tr>\n",
       "      <th>10</th>\n",
       "      <td>210350.02</td>\n",
       "      <td>237500.0</td>\n",
       "    </tr>\n",
       "    <tr>\n",
       "      <th>11</th>\n",
       "      <td>199877.00</td>\n",
       "      <td>350000.0</td>\n",
       "    </tr>\n",
       "    <tr>\n",
       "      <th>12</th>\n",
       "      <td>299304.01</td>\n",
       "      <td>335700.0</td>\n",
       "    </tr>\n",
       "    <tr>\n",
       "      <th>13</th>\n",
       "      <td>250260.00</td>\n",
       "      <td>259400.0</td>\n",
       "    </tr>\n",
       "    <tr>\n",
       "      <th>14</th>\n",
       "      <td>249230.01</td>\n",
       "      <td>234100.0</td>\n",
       "    </tr>\n",
       "    <tr>\n",
       "      <th>15</th>\n",
       "      <td>426283.29</td>\n",
       "      <td>392600.0</td>\n",
       "    </tr>\n",
       "    <tr>\n",
       "      <th>16</th>\n",
       "      <td>389242.07</td>\n",
       "      <td>365900.0</td>\n",
       "    </tr>\n",
       "    <tr>\n",
       "      <th>17</th>\n",
       "      <td>375235.01</td>\n",
       "      <td>366700.0</td>\n",
       "    </tr>\n",
       "    <tr>\n",
       "      <th>18</th>\n",
       "      <td>209244.00</td>\n",
       "      <td>233100.0</td>\n",
       "    </tr>\n",
       "    <tr>\n",
       "      <th>19</th>\n",
       "      <td>298200.02</td>\n",
       "      <td>296400.0</td>\n",
       "    </tr>\n",
       "  </tbody>\n",
       "</table>\n",
       "</div>"
      ],
      "text/plain": [
       "    PREDICTED_VALUES  ACTUAL_VALUE\n",
       "0          141170.00      140000.0\n",
       "1          116557.00      110400.0\n",
       "2          203602.00      191400.0\n",
       "3          219942.00      188800.0\n",
       "4           89831.00       87500.0\n",
       "5          174585.05       75000.0\n",
       "6           82437.00       75000.0\n",
       "7          125752.03      112500.0\n",
       "8          183338.13      137500.0\n",
       "9          249404.01      257800.0\n",
       "10         210350.02      237500.0\n",
       "11         199877.00      350000.0\n",
       "12         299304.01      335700.0\n",
       "13         250260.00      259400.0\n",
       "14         249230.01      234100.0\n",
       "15         426283.29      392600.0\n",
       "16         389242.07      365900.0\n",
       "17         375235.01      366700.0\n",
       "18         209244.00      233100.0\n",
       "19         298200.02      296400.0"
      ]
     },
     "execution_count": 665,
     "metadata": {},
     "output_type": "execute_result"
    }
   ],
   "source": [
    "from snowflake.snowpark import functions as F\n",
    "snowdf_test=session1.table(\"HOUSING_TEST\")\n",
    "input=snowdf_test.drop(\"MEDIAN_HOUSE_VALUE\")\n",
    "\n",
    "snowdf_results=snowdf_test.select(\n",
    "    predict_house_value(*input).alias(\"predicted_values\"),(F.col(\"MEDIAN_HOUSE_VALUE\")).alias(\"actual_value\")).limit(20)\n",
    "\n",
    "snowdf_results.to_pandas()"
   ]
  },
  {
   "cell_type": "code",
   "execution_count": null,
   "id": "82eaae2f-adee-410c-8f5a-11f4e67e29bc",
   "metadata": {},
   "outputs": [],
   "source": []
  },
  {
   "cell_type": "code",
   "execution_count": 666,
   "id": "b5e8bffc-15e7-42b3-b440-f0975ab0105a",
   "metadata": {},
   "outputs": [],
   "source": [
    "#if we want to load this predicion results to table "
   ]
  },
  {
   "cell_type": "code",
   "execution_count": 667,
   "id": "e3af2b4c-fb59-4462-aeee-8427d85ff369",
   "metadata": {},
   "outputs": [],
   "source": [
    "snowdf_results.write.mode(\"overwrite\").save_as_table(\"PREDICTION_RESULTS\")`"
   ]
  },
  {
   "cell_type": "code",
   "execution_count": null,
   "id": "fa7b5741-44b8-4ea2-87c0-9a6863c49262",
   "metadata": {},
   "outputs": [],
   "source": []
  },
  {
   "cell_type": "code",
   "execution_count": null,
   "id": "0e5d00a4-43ab-4542-a544-a50422579f5c",
   "metadata": {},
   "outputs": [],
   "source": []
  }
 ],
 "metadata": {
  "kernelspec": {
   "display_name": "Python 3 (ipykernel)",
   "language": "python",
   "name": "python3"
  },
  "language_info": {
   "codemirror_mode": {
    "name": "ipython",
    "version": 3
   },
   "file_extension": ".py",
   "mimetype": "text/x-python",
   "name": "python",
   "nbconvert_exporter": "python",
   "pygments_lexer": "ipython3",
   "version": "3.8.19"
  }
 },
 "nbformat": 4,
 "nbformat_minor": 5
}
