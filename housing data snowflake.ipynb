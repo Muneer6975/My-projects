{
 "cells": [
  {
   "cell_type": "code",
   "execution_count": 15,
   "id": "9fa3edf3",
   "metadata": {},
   "outputs": [
    {
     "name": "stdout",
     "output_type": "stream",
     "text": [
      "Requirement already satisfied: snowflake-connector-python in c:\\users\\munee\\anaconda3\\envs\\rstudio\\lib\\site-packages (3.0.4)\n",
      "Requirement already satisfied: pyjwt<3.0.0 in c:\\users\\munee\\anaconda3\\envs\\rstudio\\lib\\site-packages (from snowflake-connector-python) (2.8.0)\n",
      "Requirement already satisfied: urllib3<1.27,>=1.21.1 in c:\\users\\munee\\anaconda3\\envs\\rstudio\\lib\\site-packages (from snowflake-connector-python) (1.26.14)\n",
      "Requirement already satisfied: idna<4,>=2.5 in c:\\users\\munee\\anaconda3\\envs\\rstudio\\lib\\site-packages (from snowflake-connector-python) (3.4)\n",
      "Requirement already satisfied: cffi<2.0.0,>=1.9 in c:\\users\\munee\\anaconda3\\envs\\rstudio\\lib\\site-packages (from snowflake-connector-python) (1.15.1)\n",
      "Requirement already satisfied: filelock<4,>=3.5 in c:\\users\\munee\\anaconda3\\envs\\rstudio\\lib\\site-packages (from snowflake-connector-python) (3.12.2)\n",
      "Requirement already satisfied: cryptography<41.0.0,>=3.1.0 in c:\\users\\munee\\anaconda3\\envs\\rstudio\\lib\\site-packages (from snowflake-connector-python) (39.0.1)\n",
      "Requirement already satisfied: pyOpenSSL<24.0.0,>=16.2.0 in c:\\users\\munee\\anaconda3\\envs\\rstudio\\lib\\site-packages (from snowflake-connector-python) (23.0.0)\n",
      "Requirement already satisfied: pytz in c:\\users\\munee\\anaconda3\\envs\\rstudio\\lib\\site-packages (from snowflake-connector-python) (2022.7)\n",
      "Requirement already satisfied: requests<3.0.0 in c:\\users\\munee\\anaconda3\\envs\\rstudio\\lib\\site-packages (from snowflake-connector-python) (2.28.1)\n",
      "Requirement already satisfied: importlib-metadata in c:\\users\\munee\\anaconda3\\envs\\rstudio\\lib\\site-packages (from snowflake-connector-python) (4.11.3)\n",
      "Requirement already satisfied: packaging in c:\\users\\munee\\anaconda3\\envs\\rstudio\\lib\\site-packages (from snowflake-connector-python) (22.0)\n",
      "Requirement already satisfied: charset-normalizer<4,>=2 in c:\\users\\munee\\anaconda3\\envs\\rstudio\\lib\\site-packages (from snowflake-connector-python) (2.0.4)\n",
      "Requirement already satisfied: sortedcontainers>=2.4.0 in c:\\users\\munee\\anaconda3\\envs\\rstudio\\lib\\site-packages (from snowflake-connector-python) (2.4.0)\n",
      "Requirement already satisfied: certifi>=2017.4.17 in c:\\users\\munee\\anaconda3\\envs\\rstudio\\lib\\site-packages (from snowflake-connector-python) (2022.12.7)\n",
      "Requirement already satisfied: pycryptodomex!=3.5.0,<4.0.0,>=3.2 in c:\\users\\munee\\anaconda3\\envs\\rstudio\\lib\\site-packages (from snowflake-connector-python) (3.20.0)\n",
      "Requirement already satisfied: asn1crypto<2.0.0,>0.24.0 in c:\\users\\munee\\anaconda3\\envs\\rstudio\\lib\\site-packages (from snowflake-connector-python) (1.5.1)\n",
      "Requirement already satisfied: oscrypto<2.0.0 in c:\\users\\munee\\anaconda3\\envs\\rstudio\\lib\\site-packages (from snowflake-connector-python) (1.3.0)\n",
      "Requirement already satisfied: typing-extensions<5,>=4.3 in c:\\users\\munee\\anaconda3\\envs\\rstudio\\lib\\site-packages (from snowflake-connector-python) (4.4.0)\n",
      "Requirement already satisfied: pycparser in c:\\users\\munee\\anaconda3\\envs\\rstudio\\lib\\site-packages (from cffi<2.0.0,>=1.9->snowflake-connector-python) (2.21)\n",
      "Requirement already satisfied: zipp>=0.5 in c:\\users\\munee\\anaconda3\\envs\\rstudio\\lib\\site-packages (from importlib-metadata->snowflake-connector-python) (3.11.0)\n"
     ]
    }
   ],
   "source": [
    "!pip install snowflake-connector-python"
   ]
  },
  {
   "cell_type": "code",
   "execution_count": 14,
   "id": "548db7b7",
   "metadata": {},
   "outputs": [
    {
     "name": "stderr",
     "output_type": "stream",
     "text": [
      "'python--version' is not recognized as an internal or external command,\n",
      "operable program or batch file.\n"
     ]
    }
   ],
   "source": [
    "!python--version"
   ]
  },
  {
   "cell_type": "code",
   "execution_count": 16,
   "id": "f30e8324",
   "metadata": {},
   "outputs": [
    {
     "name": "stdout",
     "output_type": "stream",
     "text": [
      "C:\\Users\\munee\n"
     ]
    }
   ],
   "source": [
    "cd"
   ]
  },
  {
   "cell_type": "code",
   "execution_count": 17,
   "id": "b007f4ce",
   "metadata": {
    "scrolled": true
   },
   "outputs": [
    {
     "ename": "ModuleNotFoundError",
     "evalue": "No module named 'snowflake.snowpark'; 'snowflake' is not a package",
     "output_type": "error",
     "traceback": [
      "\u001b[1;31m---------------------------------------------------------------------------\u001b[0m",
      "\u001b[1;31mModuleNotFoundError\u001b[0m                       Traceback (most recent call last)",
      "\u001b[1;32m~\\AppData\\Local\\Temp\\ipykernel_40352\\3886646055.py\u001b[0m in \u001b[0;36m<module>\u001b[1;34m\u001b[0m\n\u001b[1;32m----> 1\u001b[1;33m \u001b[1;32mfrom\u001b[0m \u001b[0msnowflake\u001b[0m\u001b[1;33m.\u001b[0m\u001b[0msnowpark\u001b[0m \u001b[1;32mimport\u001b[0m \u001b[0mSession\u001b[0m\u001b[1;33m\u001b[0m\u001b[1;33m\u001b[0m\u001b[0m\n\u001b[0m\u001b[0;32m      2\u001b[0m \u001b[1;32mimport\u001b[0m \u001b[0mpandas\u001b[0m \u001b[1;32mas\u001b[0m \u001b[0mpd\u001b[0m\u001b[1;33m\u001b[0m\u001b[1;33m\u001b[0m\u001b[0m\n\u001b[0;32m      3\u001b[0m \u001b[0mhousing\u001b[0m\u001b[1;33m=\u001b[0m\u001b[0mpd\u001b[0m\u001b[1;33m.\u001b[0m\u001b[0mread_csv\u001b[0m\u001b[1;33m(\u001b[0m\u001b[1;34m\"housing_dataset.csv\"\u001b[0m\u001b[1;33m)\u001b[0m\u001b[1;33m\u001b[0m\u001b[1;33m\u001b[0m\u001b[0m\n\u001b[0;32m      4\u001b[0m \u001b[1;33m\u001b[0m\u001b[0m\n\u001b[0;32m      5\u001b[0m connection_parameter={\n",
      "\u001b[1;31mModuleNotFoundError\u001b[0m: No module named 'snowflake.snowpark'; 'snowflake' is not a package"
     ]
    }
   ],
   "source": [
    "from snowflake.snowpark import Session\n",
    "import pandas as pd\n",
    "housing=pd.read_csv(\"housing_dataset.csv\")\n",
    "\n",
    "connection_parameter={\n",
    "    \"account\":\"https://xw90760.ap-southeast-1.snowflakecomputing.com\",\n",
    "    \"user\":\"MUNEERSAYYED\",\n",
    "    \"password\":\"Muneer@786\",\n",
    "    \"role\":\"Accountadmin\",\n",
    "    \"warehouse\":\"compute_wh\",\n",
    "    \"database\":\"SNOWFLAKE_MUNEER\",\n",
    "    \"schema\":\"TEST_SCHEMA\",\n",
    "    \n",
    "}\n",
    "session=Session.builder.configs(connection_parameter).create()"
   ]
  },
  {
   "cell_type": "code",
   "execution_count": null,
   "id": "57adc362",
   "metadata": {},
   "outputs": [],
   "source": []
  },
  {
   "cell_type": "code",
   "execution_count": null,
   "id": "1af8edc0",
   "metadata": {},
   "outputs": [],
   "source": []
  }
 ],
 "metadata": {
  "kernelspec": {
   "display_name": "Python 3 (ipykernel)",
   "language": "python",
   "name": "python3"
  },
  "language_info": {
   "codemirror_mode": {
    "name": "ipython",
    "version": 3
   },
   "file_extension": ".py",
   "mimetype": "text/x-python",
   "name": "python",
   "nbconvert_exporter": "python",
   "pygments_lexer": "ipython3",
   "version": "3.7.1"
  }
 },
 "nbformat": 4,
 "nbformat_minor": 5
}
